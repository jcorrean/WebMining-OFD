{
 "cells": [
  {
   "cell_type": "code",
   "execution_count": null,
   "id": "2e475132",
   "metadata": {},
   "outputs": [],
   "source": [
    "import pandas as pd\n",
    "import statsmodels.api as sm\n",
    "from statsmodels.formula.api import ols    "
   ]
  },
  {
   "cell_type": "code",
   "execution_count": null,
   "id": "ee71dcd4",
   "metadata": {},
   "outputs": [],
   "source": [
    "datos = pd.read_csv('/home/jc/Documents/GitHub/WebMining-OFD/DataMoment.csv')"
   ]
  },
  {
   "cell_type": "code",
   "execution_count": null,
   "id": "e837bc92",
   "metadata": {},
   "outputs": [],
   "source": [
    "datos.head()"
   ]
  },
  {
   "cell_type": "code",
   "execution_count": null,
   "id": "52e1b79b",
   "metadata": {},
   "outputs": [],
   "source": [
    "datos.columns"
   ]
  },
  {
   "cell_type": "code",
   "execution_count": null,
   "id": "42815bf2",
   "metadata": {},
   "outputs": [],
   "source": [
    "datos = datos.rename(columns={'Number of Comments':\"NC\"})"
   ]
  },
  {
   "cell_type": "code",
   "execution_count": null,
   "id": "fabd0520",
   "metadata": {},
   "outputs": [],
   "source": [
    "datos.NC.head()"
   ]
  },
  {
   "cell_type": "code",
   "execution_count": null,
   "id": "d2866619",
   "metadata": {},
   "outputs": [],
   "source": [
    "datos_lm = ols('NC ~ C(Moment, Sum)',data=datos).fit()"
   ]
  },
  {
   "cell_type": "code",
   "execution_count": null,
   "id": "ae6f8382",
   "metadata": {},
   "outputs": [],
   "source": [
    "table = sm.stats.anova_lm(datos_lm)"
   ]
  },
  {
   "cell_type": "code",
   "execution_count": null,
   "id": "30c14e0c",
   "metadata": {},
   "outputs": [],
   "source": [
    "print(table)"
   ]
  }
 ],
 "metadata": {
  "kernelspec": {
   "display_name": "Python 3",
   "language": "python",
   "name": "python3"
  },
  "language_info": {
   "codemirror_mode": {
    "name": "ipython",
    "version": 3
   },
   "file_extension": ".py",
   "mimetype": "text/x-python",
   "name": "python",
   "nbconvert_exporter": "python",
   "pygments_lexer": "ipython3",
   "version": "3.8.8"
  }
 },
 "nbformat": 4,
 "nbformat_minor": 5
}
