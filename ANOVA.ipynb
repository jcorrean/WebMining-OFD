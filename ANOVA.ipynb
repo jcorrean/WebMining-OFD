{
 "cells": [
  {
   "cell_type": "code",
   "execution_count": 1,
   "id": "2e475132",
   "metadata": {},
   "outputs": [],
   "source": [
    "import pandas as pd\n",
    "import statsmodels.api as sm\n",
    "from statsmodels.formula.api import ols    "
   ]
  },
  {
   "cell_type": "code",
   "execution_count": 2,
   "id": "ee71dcd4",
   "metadata": {},
   "outputs": [],
   "source": [
    "datos = pd.read_csv('/home/jc/Documents/GitHub/WebMining-OFD/DataMoment.csv')"
   ]
  },
  {
   "cell_type": "code",
   "execution_count": 3,
   "id": "e837bc92",
   "metadata": {},
   "outputs": [
    {
     "data": {
      "text/html": [
       "<div>\n",
       "<style scoped>\n",
       "    .dataframe tbody tr th:only-of-type {\n",
       "        vertical-align: middle;\n",
       "    }\n",
       "\n",
       "    .dataframe tbody tr th {\n",
       "        vertical-align: top;\n",
       "    }\n",
       "\n",
       "    .dataframe thead th {\n",
       "        text-align: right;\n",
       "    }\n",
       "</style>\n",
       "<table border=\"1\" class=\"dataframe\">\n",
       "  <thead>\n",
       "    <tr style=\"text-align: right;\">\n",
       "      <th></th>\n",
       "      <th>Unnamed: 0</th>\n",
       "      <th>Moment</th>\n",
       "      <th>number</th>\n",
       "      <th>web</th>\n",
       "      <th>Name of Provider</th>\n",
       "      <th>Number of Comments</th>\n",
       "      <th>Expected Delivery Time</th>\n",
       "      <th>Minimum Charge Ordering</th>\n",
       "      <th>Cost Delivery</th>\n",
       "      <th>Latitude</th>\n",
       "      <th>...</th>\n",
       "      <th>DailyTraffic</th>\n",
       "      <th>ClientLatitude</th>\n",
       "      <th>ClientLongitude</th>\n",
       "      <th>Distance(mts)</th>\n",
       "      <th>Time(sec)</th>\n",
       "      <th>Time(min)</th>\n",
       "      <th>LogComments</th>\n",
       "      <th>TimeDif</th>\n",
       "      <th>Typical Traffic</th>\n",
       "      <th>Cases</th>\n",
       "    </tr>\n",
       "  </thead>\n",
       "  <tbody>\n",
       "    <tr>\n",
       "      <th>0</th>\n",
       "      <td>1</td>\n",
       "      <td>Morning</td>\n",
       "      <td>1</td>\n",
       "      <td>https://domicilios.com/bogota/kfc-cc-atlantis-...</td>\n",
       "      <td>KFC</td>\n",
       "      <td>5329.0</td>\n",
       "      <td>45.0</td>\n",
       "      <td>9900.0</td>\n",
       "      <td>3500.0</td>\n",
       "      <td>4.66597</td>\n",
       "      <td>...</td>\n",
       "      <td>ROG</td>\n",
       "      <td>4.665798</td>\n",
       "      <td>-74.040855</td>\n",
       "      <td>2500</td>\n",
       "      <td>660</td>\n",
       "      <td>11</td>\n",
       "      <td>8.580919</td>\n",
       "      <td>34.0</td>\n",
       "      <td>Typical Traffic Afternoon</td>\n",
       "      <td>Red</td>\n",
       "    </tr>\n",
       "    <tr>\n",
       "      <th>1</th>\n",
       "      <td>2</td>\n",
       "      <td>Morning</td>\n",
       "      <td>1</td>\n",
       "      <td>https://domicilios.com/bogota/kfc-cc-atlantis-...</td>\n",
       "      <td>KFC</td>\n",
       "      <td>5329.0</td>\n",
       "      <td>45.0</td>\n",
       "      <td>9900.0</td>\n",
       "      <td>3500.0</td>\n",
       "      <td>4.66597</td>\n",
       "      <td>...</td>\n",
       "      <td>ROG</td>\n",
       "      <td>4.666159</td>\n",
       "      <td>-74.038331</td>\n",
       "      <td>3300</td>\n",
       "      <td>720</td>\n",
       "      <td>12</td>\n",
       "      <td>8.580919</td>\n",
       "      <td>33.0</td>\n",
       "      <td>Typical Traffic Afternoon</td>\n",
       "      <td>Red</td>\n",
       "    </tr>\n",
       "    <tr>\n",
       "      <th>2</th>\n",
       "      <td>3</td>\n",
       "      <td>Morning</td>\n",
       "      <td>1</td>\n",
       "      <td>https://domicilios.com/bogota/kfc-cc-atlantis-...</td>\n",
       "      <td>KFC</td>\n",
       "      <td>5329.0</td>\n",
       "      <td>45.0</td>\n",
       "      <td>9900.0</td>\n",
       "      <td>3500.0</td>\n",
       "      <td>4.66597</td>\n",
       "      <td>...</td>\n",
       "      <td>ROG</td>\n",
       "      <td>4.670228</td>\n",
       "      <td>-74.026783</td>\n",
       "      <td>9100</td>\n",
       "      <td>1740</td>\n",
       "      <td>29</td>\n",
       "      <td>8.580919</td>\n",
       "      <td>16.0</td>\n",
       "      <td>Typical Traffic Afternoon</td>\n",
       "      <td>Red</td>\n",
       "    </tr>\n",
       "    <tr>\n",
       "      <th>3</th>\n",
       "      <td>4</td>\n",
       "      <td>Morning</td>\n",
       "      <td>1</td>\n",
       "      <td>https://domicilios.com/bogota/kfc-cc-atlantis-...</td>\n",
       "      <td>KFC</td>\n",
       "      <td>5329.0</td>\n",
       "      <td>45.0</td>\n",
       "      <td>9900.0</td>\n",
       "      <td>3500.0</td>\n",
       "      <td>4.66597</td>\n",
       "      <td>...</td>\n",
       "      <td>ROG</td>\n",
       "      <td>4.662140</td>\n",
       "      <td>-74.008008</td>\n",
       "      <td>9700</td>\n",
       "      <td>1740</td>\n",
       "      <td>29</td>\n",
       "      <td>8.580919</td>\n",
       "      <td>16.0</td>\n",
       "      <td>Typical Traffic Afternoon</td>\n",
       "      <td>Red</td>\n",
       "    </tr>\n",
       "    <tr>\n",
       "      <th>4</th>\n",
       "      <td>5</td>\n",
       "      <td>Morning</td>\n",
       "      <td>1</td>\n",
       "      <td>https://domicilios.com/bogota/kfc-cc-atlantis-...</td>\n",
       "      <td>KFC</td>\n",
       "      <td>5329.0</td>\n",
       "      <td>45.0</td>\n",
       "      <td>9900.0</td>\n",
       "      <td>3500.0</td>\n",
       "      <td>4.66597</td>\n",
       "      <td>...</td>\n",
       "      <td>ROG</td>\n",
       "      <td>4.669905</td>\n",
       "      <td>-74.104917</td>\n",
       "      <td>8800</td>\n",
       "      <td>1320</td>\n",
       "      <td>22</td>\n",
       "      <td>8.580919</td>\n",
       "      <td>23.0</td>\n",
       "      <td>Typical Traffic Afternoon</td>\n",
       "      <td>Red</td>\n",
       "    </tr>\n",
       "  </tbody>\n",
       "</table>\n",
       "<p>5 rows × 21 columns</p>\n",
       "</div>"
      ],
      "text/plain": [
       "   Unnamed: 0   Moment  number  \\\n",
       "0           1  Morning       1   \n",
       "1           2  Morning       1   \n",
       "2           3  Morning       1   \n",
       "3           4  Morning       1   \n",
       "4           5  Morning       1   \n",
       "\n",
       "                                                 web Name of Provider  \\\n",
       "0  https://domicilios.com/bogota/kfc-cc-atlantis-...              KFC   \n",
       "1  https://domicilios.com/bogota/kfc-cc-atlantis-...              KFC   \n",
       "2  https://domicilios.com/bogota/kfc-cc-atlantis-...              KFC   \n",
       "3  https://domicilios.com/bogota/kfc-cc-atlantis-...              KFC   \n",
       "4  https://domicilios.com/bogota/kfc-cc-atlantis-...              KFC   \n",
       "\n",
       "   Number of Comments  Expected Delivery Time  Minimum Charge Ordering  \\\n",
       "0              5329.0                    45.0                   9900.0   \n",
       "1              5329.0                    45.0                   9900.0   \n",
       "2              5329.0                    45.0                   9900.0   \n",
       "3              5329.0                    45.0                   9900.0   \n",
       "4              5329.0                    45.0                   9900.0   \n",
       "\n",
       "   Cost Delivery  Latitude  ...  DailyTraffic ClientLatitude  ClientLongitude  \\\n",
       "0         3500.0   4.66597  ...           ROG       4.665798       -74.040855   \n",
       "1         3500.0   4.66597  ...           ROG       4.666159       -74.038331   \n",
       "2         3500.0   4.66597  ...           ROG       4.670228       -74.026783   \n",
       "3         3500.0   4.66597  ...           ROG       4.662140       -74.008008   \n",
       "4         3500.0   4.66597  ...           ROG       4.669905       -74.104917   \n",
       "\n",
       "   Distance(mts)  Time(sec)  Time(min)  LogComments  TimeDif  \\\n",
       "0           2500        660         11     8.580919     34.0   \n",
       "1           3300        720         12     8.580919     33.0   \n",
       "2           9100       1740         29     8.580919     16.0   \n",
       "3           9700       1740         29     8.580919     16.0   \n",
       "4           8800       1320         22     8.580919     23.0   \n",
       "\n",
       "             Typical Traffic Cases  \n",
       "0  Typical Traffic Afternoon   Red  \n",
       "1  Typical Traffic Afternoon   Red  \n",
       "2  Typical Traffic Afternoon   Red  \n",
       "3  Typical Traffic Afternoon   Red  \n",
       "4  Typical Traffic Afternoon   Red  \n",
       "\n",
       "[5 rows x 21 columns]"
      ]
     },
     "execution_count": 3,
     "metadata": {},
     "output_type": "execute_result"
    }
   ],
   "source": [
    "datos.head()"
   ]
  },
  {
   "cell_type": "code",
   "execution_count": 4,
   "id": "52e1b79b",
   "metadata": {},
   "outputs": [
    {
     "data": {
      "text/plain": [
       "Index(['Unnamed: 0', 'Moment', 'number', 'web', 'Name of Provider',\n",
       "       'Number of Comments', 'Expected Delivery Time',\n",
       "       'Minimum Charge Ordering', 'Cost Delivery', 'Latitude', 'Longitude',\n",
       "       'DailyTraffic', 'ClientLatitude', 'ClientLongitude', 'Distance(mts)',\n",
       "       'Time(sec)', 'Time(min)', 'LogComments', 'TimeDif', 'Typical Traffic',\n",
       "       'Cases'],\n",
       "      dtype='object')"
      ]
     },
     "execution_count": 4,
     "metadata": {},
     "output_type": "execute_result"
    }
   ],
   "source": [
    "datos.columns"
   ]
  },
  {
   "cell_type": "code",
   "execution_count": 5,
   "id": "42815bf2",
   "metadata": {},
   "outputs": [],
   "source": [
    "datos = datos.rename(columns={'Number of Comments':\"NC\"})"
   ]
  },
  {
   "cell_type": "code",
   "execution_count": 6,
   "id": "fabd0520",
   "metadata": {},
   "outputs": [
    {
     "data": {
      "text/plain": [
       "0    5329.0\n",
       "1    5329.0\n",
       "2    5329.0\n",
       "3    5329.0\n",
       "4    5329.0\n",
       "Name: NC, dtype: float64"
      ]
     },
     "execution_count": 6,
     "metadata": {},
     "output_type": "execute_result"
    }
   ],
   "source": [
    "datos.NC.head()"
   ]
  },
  {
   "cell_type": "code",
   "execution_count": 7,
   "id": "d2866619",
   "metadata": {},
   "outputs": [],
   "source": [
    "datos_lm = ols('NC ~ C(Moment, Sum)',data=datos).fit()"
   ]
  },
  {
   "cell_type": "code",
   "execution_count": 8,
   "id": "ae6f8382",
   "metadata": {},
   "outputs": [],
   "source": [
    "table = sm.stats.anova_lm(datos_lm)"
   ]
  },
  {
   "cell_type": "code",
   "execution_count": 9,
   "id": "30c14e0c",
   "metadata": {},
   "outputs": [
    {
     "name": "stdout",
     "output_type": "stream",
     "text": [
      "                     df        sum_sq       mean_sq        F   PR(>F)\n",
      "C(Moment, Sum)      2.0  2.475913e+06  1.237957e+06  1.95951  0.14094\n",
      "Residual        44178.0  2.791026e+10  6.317684e+05      NaN      NaN\n"
     ]
    }
   ],
   "source": [
    "print(table)"
   ]
  }
 ],
 "metadata": {
  "kernelspec": {
   "display_name": "Python 3",
   "language": "python",
   "name": "python3"
  },
  "language_info": {
   "codemirror_mode": {
    "name": "ipython",
    "version": 3
   },
   "file_extension": ".py",
   "mimetype": "text/x-python",
   "name": "python",
   "nbconvert_exporter": "python",
   "pygments_lexer": "ipython3",
   "version": "3.8.8"
  }
 },
 "nbformat": 4,
 "nbformat_minor": 5
}
